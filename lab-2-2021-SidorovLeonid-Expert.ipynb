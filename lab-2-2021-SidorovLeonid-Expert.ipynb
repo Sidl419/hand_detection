{
 "metadata": {
  "language_info": {
   "codemirror_mode": {
    "name": "ipython",
    "version": 3
   },
   "file_extension": ".py",
   "mimetype": "text/x-python",
   "name": "python",
   "nbconvert_exporter": "python",
   "pygments_lexer": "ipython3",
   "version": "3.6.8"
  },
  "orig_nbformat": 2,
  "kernelspec": {
   "name": "python368jvsc74a57bd054ff0f65d3b802c1a79f5e4d10f397d2b3cfd695e46989a6850541dc5e60c588",
   "display_name": "Python 3.6.8 64-bit ('base': conda)"
  }
 },
 "nbformat": 4,
 "nbformat_minor": 2,
 "cells": [
  {
   "cell_type": "code",
   "execution_count": 1,
   "metadata": {},
   "outputs": [],
   "source": [
    "import numpy as np\n",
    "from sklearn.cluster import DBSCAN, KMeans\n",
    "from sklearn.neighbors import NearestNeighbors\n",
    "from sklearn.metrics import silhouette_score"
   ]
  },
  {
   "source": [
    "# Загрузка данных\n",
    "\n",
    "Два `.csv` находятся в корне архива. Кроме того после обработки фотографий можно подать на вход одноимённые файлы из папки `output`."
   ],
   "cell_type": "markdown",
   "metadata": {}
  },
  {
   "cell_type": "code",
   "execution_count": 2,
   "metadata": {},
   "outputs": [],
   "source": [
    "dists = np.genfromtxt('./dists.csv', delimiter=',')\n",
    "labels = np.genfromtxt('./labels.csv', delimiter=',').astype(int)"
   ]
  },
  {
   "source": [
    "# Поиск наиболее похожих объектов\n",
    "\n",
    "Применяем готовый алгоритм поиска ближайших соседей с евклидовой метрикой и сохраняем результат."
   ],
   "cell_type": "markdown",
   "metadata": {}
  },
  {
   "cell_type": "code",
   "execution_count": 3,
   "metadata": {},
   "outputs": [],
   "source": [
    "nbrs = NearestNeighbors(n_neighbors=4).fit(dists)\n",
    "distances, indices = nbrs.kneighbors(dists)"
   ]
  },
  {
   "cell_type": "code",
   "execution_count": 4,
   "metadata": {},
   "outputs": [],
   "source": [
    "np.savetxt('./output/neighbors.csv', labels[indices], delimiter=',')"
   ]
  },
  {
   "source": [
    "# Кластеризация ладоней и поиск числа уникальных людей\n",
    "\n",
    "Избавляемся от выбросов при помощи DBScan, подбираем при помощи коэффициента силуэта оптимальное число кластеров и сохраняем результат."
   ],
   "cell_type": "markdown",
   "metadata": {}
  },
  {
   "cell_type": "code",
   "execution_count": 5,
   "metadata": {},
   "outputs": [
    {
     "output_type": "stream",
     "name": "stdout",
     "text": [
      "Best n_clusters:  14\n"
     ]
    }
   ],
   "source": [
    "dbscan = DBSCAN(eps=70).fit_predict(dists)\n",
    "\n",
    "score = []\n",
    "\n",
    "for i in range(5, 50):\n",
    "    kmeans = KMeans(n_clusters=i).fit_predict(dists[dbscan != -1])\n",
    "    score.append(silhouette_score(dists[dbscan != -1], kmeans))\n",
    "\n",
    "best_clust = list(range(10, 40))[np.argmax(score)]\n",
    "\n",
    "kmeans = KMeans(n_clusters=best_clust).fit_predict(dists[dbscan != -1])\n",
    "\n",
    "print('Best n_clusters: ', best_clust)"
   ]
  },
  {
   "source": [
    "Теперь приведём даннные к нужному формату (то есть к таблице вида «Персона № – имена изображений ладоней»)."
   ],
   "cell_type": "markdown",
   "metadata": {}
  },
  {
   "cell_type": "code",
   "execution_count": 6,
   "metadata": {},
   "outputs": [],
   "source": [
    "clust_labels = np.hstack([labels[dbscan != -1], labels[dbscan == -1]])\n",
    "clusters = np.hstack([kmeans, dbscan[dbscan == -1]])\n",
    "\n",
    "clust_res = []\n",
    "lens = []\n",
    "\n",
    "for i in range(-1, best_clust):\n",
    "    clust_res.append(clust_labels[clusters == i])\n",
    "    lens.append(len(clust_labels[clusters == i]))\n",
    "\n",
    "width = np.max(lens)"
   ]
  },
  {
   "cell_type": "code",
   "execution_count": 7,
   "metadata": {},
   "outputs": [],
   "source": [
    "persons = np.zeros(width + 1)\n",
    "\n",
    "for i, person in enumerate(clust_res):\n",
    "    temp = [i - 1] + list(person) + [0] * (width - len(person))\n",
    "    persons = np.vstack([persons, np.array(temp)])\n",
    "\n",
    "persons = persons[1:]"
   ]
  },
  {
   "cell_type": "code",
   "execution_count": 8,
   "metadata": {},
   "outputs": [],
   "source": [
    "np.savetxt('./output/persons.csv', persons, delimiter=',')"
   ]
  }
 ]
}